{
 "cells": [
  {
   "cell_type": "markdown",
   "metadata": {},
   "source": [
    "<h3>Importing the necessary libraries</h3>"
   ]
  },
  {
   "cell_type": "code",
   "execution_count": 4,
   "metadata": {},
   "outputs": [],
   "source": [
    "import keras\n",
    "import pandas as pd\n",
    "import numpy as np"
   ]
  },
  {
   "cell_type": "code",
   "execution_count": 5,
   "metadata": {},
   "outputs": [
    {
     "data": {
      "text/html": [
       "<div>\n",
       "<style scoped>\n",
       "    .dataframe tbody tr th:only-of-type {\n",
       "        vertical-align: middle;\n",
       "    }\n",
       "\n",
       "    .dataframe tbody tr th {\n",
       "        vertical-align: top;\n",
       "    }\n",
       "\n",
       "    .dataframe thead th {\n",
       "        text-align: right;\n",
       "    }\n",
       "</style>\n",
       "<table border=\"1\" class=\"dataframe\">\n",
       "  <thead>\n",
       "    <tr style=\"text-align: right;\">\n",
       "      <th></th>\n",
       "      <th>Cement</th>\n",
       "      <th>Blast Furnace Slag</th>\n",
       "      <th>Fly Ash</th>\n",
       "      <th>Water</th>\n",
       "      <th>Superplasticizer</th>\n",
       "      <th>Coarse Aggregate</th>\n",
       "      <th>Fine Aggregate</th>\n",
       "      <th>Age</th>\n",
       "      <th>Strength</th>\n",
       "    </tr>\n",
       "  </thead>\n",
       "  <tbody>\n",
       "    <tr>\n",
       "      <th>0</th>\n",
       "      <td>540.0</td>\n",
       "      <td>0.0</td>\n",
       "      <td>0.0</td>\n",
       "      <td>162.0</td>\n",
       "      <td>2.5</td>\n",
       "      <td>1040.0</td>\n",
       "      <td>676.0</td>\n",
       "      <td>28</td>\n",
       "      <td>79.99</td>\n",
       "    </tr>\n",
       "    <tr>\n",
       "      <th>1</th>\n",
       "      <td>540.0</td>\n",
       "      <td>0.0</td>\n",
       "      <td>0.0</td>\n",
       "      <td>162.0</td>\n",
       "      <td>2.5</td>\n",
       "      <td>1055.0</td>\n",
       "      <td>676.0</td>\n",
       "      <td>28</td>\n",
       "      <td>61.89</td>\n",
       "    </tr>\n",
       "    <tr>\n",
       "      <th>2</th>\n",
       "      <td>332.5</td>\n",
       "      <td>142.5</td>\n",
       "      <td>0.0</td>\n",
       "      <td>228.0</td>\n",
       "      <td>0.0</td>\n",
       "      <td>932.0</td>\n",
       "      <td>594.0</td>\n",
       "      <td>270</td>\n",
       "      <td>40.27</td>\n",
       "    </tr>\n",
       "    <tr>\n",
       "      <th>3</th>\n",
       "      <td>332.5</td>\n",
       "      <td>142.5</td>\n",
       "      <td>0.0</td>\n",
       "      <td>228.0</td>\n",
       "      <td>0.0</td>\n",
       "      <td>932.0</td>\n",
       "      <td>594.0</td>\n",
       "      <td>365</td>\n",
       "      <td>41.05</td>\n",
       "    </tr>\n",
       "    <tr>\n",
       "      <th>4</th>\n",
       "      <td>198.6</td>\n",
       "      <td>132.4</td>\n",
       "      <td>0.0</td>\n",
       "      <td>192.0</td>\n",
       "      <td>0.0</td>\n",
       "      <td>978.4</td>\n",
       "      <td>825.5</td>\n",
       "      <td>360</td>\n",
       "      <td>44.30</td>\n",
       "    </tr>\n",
       "  </tbody>\n",
       "</table>\n",
       "</div>"
      ],
      "text/plain": [
       "   Cement  Blast Furnace Slag  Fly Ash  Water  Superplasticizer  \\\n",
       "0   540.0                 0.0      0.0  162.0               2.5   \n",
       "1   540.0                 0.0      0.0  162.0               2.5   \n",
       "2   332.5               142.5      0.0  228.0               0.0   \n",
       "3   332.5               142.5      0.0  228.0               0.0   \n",
       "4   198.6               132.4      0.0  192.0               0.0   \n",
       "\n",
       "   Coarse Aggregate  Fine Aggregate  Age  Strength  \n",
       "0            1040.0           676.0   28     79.99  \n",
       "1            1055.0           676.0   28     61.89  \n",
       "2             932.0           594.0  270     40.27  \n",
       "3             932.0           594.0  365     41.05  \n",
       "4             978.4           825.5  360     44.30  "
      ]
     },
     "execution_count": 5,
     "metadata": {},
     "output_type": "execute_result"
    }
   ],
   "source": [
    "df=pd.read_csv('concrete_data.csv')\n",
    "df.head()"
   ]
  },
  {
   "cell_type": "code",
   "execution_count": 6,
   "metadata": {},
   "outputs": [
    {
     "data": {
      "text/plain": [
       "(1030, 9)"
      ]
     },
     "execution_count": 6,
     "metadata": {},
     "output_type": "execute_result"
    }
   ],
   "source": [
    "df.shape"
   ]
  },
  {
   "cell_type": "code",
   "execution_count": 7,
   "metadata": {},
   "outputs": [
    {
     "name": "stdout",
     "output_type": "stream",
     "text": [
      "<class 'pandas.core.frame.DataFrame'>\n",
      "RangeIndex: 1030 entries, 0 to 1029\n",
      "Data columns (total 9 columns):\n",
      " #   Column              Non-Null Count  Dtype  \n",
      "---  ------              --------------  -----  \n",
      " 0   Cement              1030 non-null   float64\n",
      " 1   Blast Furnace Slag  1030 non-null   float64\n",
      " 2   Fly Ash             1030 non-null   float64\n",
      " 3   Water               1030 non-null   float64\n",
      " 4   Superplasticizer    1030 non-null   float64\n",
      " 5   Coarse Aggregate    1030 non-null   float64\n",
      " 6   Fine Aggregate      1030 non-null   float64\n",
      " 7   Age                 1030 non-null   int64  \n",
      " 8   Strength            1030 non-null   float64\n",
      "dtypes: float64(8), int64(1)\n",
      "memory usage: 72.5 KB\n"
     ]
    }
   ],
   "source": [
    "df.info()"
   ]
  },
  {
   "cell_type": "code",
   "execution_count": 8,
   "metadata": {},
   "outputs": [
    {
     "data": {
      "text/html": [
       "<div>\n",
       "<style scoped>\n",
       "    .dataframe tbody tr th:only-of-type {\n",
       "        vertical-align: middle;\n",
       "    }\n",
       "\n",
       "    .dataframe tbody tr th {\n",
       "        vertical-align: top;\n",
       "    }\n",
       "\n",
       "    .dataframe thead th {\n",
       "        text-align: right;\n",
       "    }\n",
       "</style>\n",
       "<table border=\"1\" class=\"dataframe\">\n",
       "  <thead>\n",
       "    <tr style=\"text-align: right;\">\n",
       "      <th></th>\n",
       "      <th>Cement</th>\n",
       "      <th>Blast Furnace Slag</th>\n",
       "      <th>Fly Ash</th>\n",
       "      <th>Water</th>\n",
       "      <th>Superplasticizer</th>\n",
       "      <th>Coarse Aggregate</th>\n",
       "      <th>Fine Aggregate</th>\n",
       "      <th>Age</th>\n",
       "      <th>Strength</th>\n",
       "    </tr>\n",
       "  </thead>\n",
       "  <tbody>\n",
       "    <tr>\n",
       "      <th>count</th>\n",
       "      <td>1030.000000</td>\n",
       "      <td>1030.000000</td>\n",
       "      <td>1030.000000</td>\n",
       "      <td>1030.000000</td>\n",
       "      <td>1030.000000</td>\n",
       "      <td>1030.000000</td>\n",
       "      <td>1030.000000</td>\n",
       "      <td>1030.000000</td>\n",
       "      <td>1030.000000</td>\n",
       "    </tr>\n",
       "    <tr>\n",
       "      <th>mean</th>\n",
       "      <td>281.167864</td>\n",
       "      <td>73.895825</td>\n",
       "      <td>54.188350</td>\n",
       "      <td>181.567282</td>\n",
       "      <td>6.204660</td>\n",
       "      <td>972.918932</td>\n",
       "      <td>773.580485</td>\n",
       "      <td>45.662136</td>\n",
       "      <td>35.817961</td>\n",
       "    </tr>\n",
       "    <tr>\n",
       "      <th>std</th>\n",
       "      <td>104.506364</td>\n",
       "      <td>86.279342</td>\n",
       "      <td>63.997004</td>\n",
       "      <td>21.354219</td>\n",
       "      <td>5.973841</td>\n",
       "      <td>77.753954</td>\n",
       "      <td>80.175980</td>\n",
       "      <td>63.169912</td>\n",
       "      <td>16.705742</td>\n",
       "    </tr>\n",
       "    <tr>\n",
       "      <th>min</th>\n",
       "      <td>102.000000</td>\n",
       "      <td>0.000000</td>\n",
       "      <td>0.000000</td>\n",
       "      <td>121.800000</td>\n",
       "      <td>0.000000</td>\n",
       "      <td>801.000000</td>\n",
       "      <td>594.000000</td>\n",
       "      <td>1.000000</td>\n",
       "      <td>2.330000</td>\n",
       "    </tr>\n",
       "    <tr>\n",
       "      <th>25%</th>\n",
       "      <td>192.375000</td>\n",
       "      <td>0.000000</td>\n",
       "      <td>0.000000</td>\n",
       "      <td>164.900000</td>\n",
       "      <td>0.000000</td>\n",
       "      <td>932.000000</td>\n",
       "      <td>730.950000</td>\n",
       "      <td>7.000000</td>\n",
       "      <td>23.710000</td>\n",
       "    </tr>\n",
       "    <tr>\n",
       "      <th>50%</th>\n",
       "      <td>272.900000</td>\n",
       "      <td>22.000000</td>\n",
       "      <td>0.000000</td>\n",
       "      <td>185.000000</td>\n",
       "      <td>6.400000</td>\n",
       "      <td>968.000000</td>\n",
       "      <td>779.500000</td>\n",
       "      <td>28.000000</td>\n",
       "      <td>34.445000</td>\n",
       "    </tr>\n",
       "    <tr>\n",
       "      <th>75%</th>\n",
       "      <td>350.000000</td>\n",
       "      <td>142.950000</td>\n",
       "      <td>118.300000</td>\n",
       "      <td>192.000000</td>\n",
       "      <td>10.200000</td>\n",
       "      <td>1029.400000</td>\n",
       "      <td>824.000000</td>\n",
       "      <td>56.000000</td>\n",
       "      <td>46.135000</td>\n",
       "    </tr>\n",
       "    <tr>\n",
       "      <th>max</th>\n",
       "      <td>540.000000</td>\n",
       "      <td>359.400000</td>\n",
       "      <td>200.100000</td>\n",
       "      <td>247.000000</td>\n",
       "      <td>32.200000</td>\n",
       "      <td>1145.000000</td>\n",
       "      <td>992.600000</td>\n",
       "      <td>365.000000</td>\n",
       "      <td>82.600000</td>\n",
       "    </tr>\n",
       "  </tbody>\n",
       "</table>\n",
       "</div>"
      ],
      "text/plain": [
       "            Cement  Blast Furnace Slag      Fly Ash        Water  \\\n",
       "count  1030.000000         1030.000000  1030.000000  1030.000000   \n",
       "mean    281.167864           73.895825    54.188350   181.567282   \n",
       "std     104.506364           86.279342    63.997004    21.354219   \n",
       "min     102.000000            0.000000     0.000000   121.800000   \n",
       "25%     192.375000            0.000000     0.000000   164.900000   \n",
       "50%     272.900000           22.000000     0.000000   185.000000   \n",
       "75%     350.000000          142.950000   118.300000   192.000000   \n",
       "max     540.000000          359.400000   200.100000   247.000000   \n",
       "\n",
       "       Superplasticizer  Coarse Aggregate  Fine Aggregate          Age  \\\n",
       "count       1030.000000       1030.000000     1030.000000  1030.000000   \n",
       "mean           6.204660        972.918932      773.580485    45.662136   \n",
       "std            5.973841         77.753954       80.175980    63.169912   \n",
       "min            0.000000        801.000000      594.000000     1.000000   \n",
       "25%            0.000000        932.000000      730.950000     7.000000   \n",
       "50%            6.400000        968.000000      779.500000    28.000000   \n",
       "75%           10.200000       1029.400000      824.000000    56.000000   \n",
       "max           32.200000       1145.000000      992.600000   365.000000   \n",
       "\n",
       "          Strength  \n",
       "count  1030.000000  \n",
       "mean     35.817961  \n",
       "std      16.705742  \n",
       "min       2.330000  \n",
       "25%      23.710000  \n",
       "50%      34.445000  \n",
       "75%      46.135000  \n",
       "max      82.600000  "
      ]
     },
     "execution_count": 8,
     "metadata": {},
     "output_type": "execute_result"
    }
   ],
   "source": [
    "df.describe()"
   ]
  },
  {
   "cell_type": "markdown",
   "metadata": {},
   "source": [
    "<h3>Checking for NULL values in the dataset</h3>"
   ]
  },
  {
   "cell_type": "code",
   "execution_count": 9,
   "metadata": {},
   "outputs": [
    {
     "data": {
      "text/plain": [
       "Cement                0\n",
       "Blast Furnace Slag    0\n",
       "Fly Ash               0\n",
       "Water                 0\n",
       "Superplasticizer      0\n",
       "Coarse Aggregate      0\n",
       "Fine Aggregate        0\n",
       "Age                   0\n",
       "Strength              0\n",
       "dtype: int64"
      ]
     },
     "execution_count": 9,
     "metadata": {},
     "output_type": "execute_result"
    }
   ],
   "source": [
    "df.isnull().sum()"
   ]
  },
  {
   "cell_type": "code",
   "execution_count": 10,
   "metadata": {},
   "outputs": [],
   "source": [
    "df_columns = df.columns\n",
    "predictors = df[df_columns[df_columns != 'Strength']] \n",
    "target = df['Strength']"
   ]
  },
  {
   "cell_type": "code",
   "execution_count": 11,
   "metadata": {},
   "outputs": [
    {
     "data": {
      "text/html": [
       "<div>\n",
       "<style scoped>\n",
       "    .dataframe tbody tr th:only-of-type {\n",
       "        vertical-align: middle;\n",
       "    }\n",
       "\n",
       "    .dataframe tbody tr th {\n",
       "        vertical-align: top;\n",
       "    }\n",
       "\n",
       "    .dataframe thead th {\n",
       "        text-align: right;\n",
       "    }\n",
       "</style>\n",
       "<table border=\"1\" class=\"dataframe\">\n",
       "  <thead>\n",
       "    <tr style=\"text-align: right;\">\n",
       "      <th></th>\n",
       "      <th>Cement</th>\n",
       "      <th>Blast Furnace Slag</th>\n",
       "      <th>Fly Ash</th>\n",
       "      <th>Water</th>\n",
       "      <th>Superplasticizer</th>\n",
       "      <th>Coarse Aggregate</th>\n",
       "      <th>Fine Aggregate</th>\n",
       "      <th>Age</th>\n",
       "    </tr>\n",
       "  </thead>\n",
       "  <tbody>\n",
       "    <tr>\n",
       "      <th>0</th>\n",
       "      <td>540.0</td>\n",
       "      <td>0.0</td>\n",
       "      <td>0.0</td>\n",
       "      <td>162.0</td>\n",
       "      <td>2.5</td>\n",
       "      <td>1040.0</td>\n",
       "      <td>676.0</td>\n",
       "      <td>28</td>\n",
       "    </tr>\n",
       "    <tr>\n",
       "      <th>1</th>\n",
       "      <td>540.0</td>\n",
       "      <td>0.0</td>\n",
       "      <td>0.0</td>\n",
       "      <td>162.0</td>\n",
       "      <td>2.5</td>\n",
       "      <td>1055.0</td>\n",
       "      <td>676.0</td>\n",
       "      <td>28</td>\n",
       "    </tr>\n",
       "    <tr>\n",
       "      <th>2</th>\n",
       "      <td>332.5</td>\n",
       "      <td>142.5</td>\n",
       "      <td>0.0</td>\n",
       "      <td>228.0</td>\n",
       "      <td>0.0</td>\n",
       "      <td>932.0</td>\n",
       "      <td>594.0</td>\n",
       "      <td>270</td>\n",
       "    </tr>\n",
       "    <tr>\n",
       "      <th>3</th>\n",
       "      <td>332.5</td>\n",
       "      <td>142.5</td>\n",
       "      <td>0.0</td>\n",
       "      <td>228.0</td>\n",
       "      <td>0.0</td>\n",
       "      <td>932.0</td>\n",
       "      <td>594.0</td>\n",
       "      <td>365</td>\n",
       "    </tr>\n",
       "    <tr>\n",
       "      <th>4</th>\n",
       "      <td>198.6</td>\n",
       "      <td>132.4</td>\n",
       "      <td>0.0</td>\n",
       "      <td>192.0</td>\n",
       "      <td>0.0</td>\n",
       "      <td>978.4</td>\n",
       "      <td>825.5</td>\n",
       "      <td>360</td>\n",
       "    </tr>\n",
       "  </tbody>\n",
       "</table>\n",
       "</div>"
      ],
      "text/plain": [
       "   Cement  Blast Furnace Slag  Fly Ash  Water  Superplasticizer  \\\n",
       "0   540.0                 0.0      0.0  162.0               2.5   \n",
       "1   540.0                 0.0      0.0  162.0               2.5   \n",
       "2   332.5               142.5      0.0  228.0               0.0   \n",
       "3   332.5               142.5      0.0  228.0               0.0   \n",
       "4   198.6               132.4      0.0  192.0               0.0   \n",
       "\n",
       "   Coarse Aggregate  Fine Aggregate  Age  \n",
       "0            1040.0           676.0   28  \n",
       "1            1055.0           676.0   28  \n",
       "2             932.0           594.0  270  \n",
       "3             932.0           594.0  365  \n",
       "4             978.4           825.5  360  "
      ]
     },
     "execution_count": 11,
     "metadata": {},
     "output_type": "execute_result"
    }
   ],
   "source": [
    "predictors.head()"
   ]
  },
  {
   "cell_type": "code",
   "execution_count": 12,
   "metadata": {},
   "outputs": [
    {
     "data": {
      "text/plain": [
       "0    79.99\n",
       "1    61.89\n",
       "2    40.27\n",
       "3    41.05\n",
       "4    44.30\n",
       "Name: Strength, dtype: float64"
      ]
     },
     "execution_count": 12,
     "metadata": {},
     "output_type": "execute_result"
    }
   ],
   "source": [
    "target.head()"
   ]
  },
  {
   "cell_type": "code",
   "execution_count": 13,
   "metadata": {},
   "outputs": [
    {
     "data": {
      "text/plain": [
       "8"
      ]
     },
     "execution_count": 13,
     "metadata": {},
     "output_type": "execute_result"
    }
   ],
   "source": [
    "\n",
    "n_cols = predictors.shape[1] # number of predictors\n",
    "n_cols"
   ]
  },
  {
   "cell_type": "code",
   "execution_count": 14,
   "metadata": {},
   "outputs": [],
   "source": [
    "from keras.models import Sequential\n",
    "from keras.layers import Dense"
   ]
  },
  {
   "cell_type": "code",
   "execution_count": 15,
   "metadata": {},
   "outputs": [],
   "source": [
    "def regression_model():\n",
    "    # create model\n",
    "    model = Sequential()\n",
    "    model.add(Dense(10, activation='relu', input_shape=(n_cols,)))\n",
    "    model.add(Dense(1))\n",
    "    \n",
    "    # compile model\n",
    "    model.compile(optimizer='adam', loss='mean_squared_error')\n",
    "    return model"
   ]
  },
  {
   "cell_type": "code",
   "execution_count": 16,
   "metadata": {},
   "outputs": [],
   "source": [
    "from sklearn.model_selection import train_test_split"
   ]
  },
  {
   "cell_type": "code",
   "execution_count": 17,
   "metadata": {},
   "outputs": [],
   "source": [
    "X_train, X_test, y_train, y_test = train_test_split(predictors, target, test_size=0.3, random_state=42)"
   ]
  },
  {
   "cell_type": "code",
   "execution_count": 18,
   "metadata": {},
   "outputs": [],
   "source": [
    "model = regression_model()"
   ]
  },
  {
   "cell_type": "code",
   "execution_count": 19,
   "metadata": {
    "scrolled": true
   },
   "outputs": [
    {
     "name": "stdout",
     "output_type": "stream",
     "text": [
      "WARNING:tensorflow:From C:\\Users\\Revanth Kotha\\Anaconda3\\lib\\site-packages\\keras\\backend\\tensorflow_backend.py:422: The name tf.global_variables is deprecated. Please use tf.compat.v1.global_variables instead.\n",
      "\n",
      "Epoch 1/50\n",
      "721/721 [==============================] - 1s 828us/step - loss: 1436.3907\n",
      "Epoch 2/50\n",
      "721/721 [==============================] - 0s 52us/step - loss: 1046.7351\n",
      "Epoch 3/50\n",
      "721/721 [==============================] - 0s 33us/step - loss: 786.5566\n",
      "Epoch 4/50\n",
      "721/721 [==============================] - 0s 32us/step - loss: 568.8780\n",
      "Epoch 5/50\n",
      "721/721 [==============================] - 0s 56us/step - loss: 428.0187\n",
      "Epoch 6/50\n",
      "721/721 [==============================] - 0s 72us/step - loss: 341.3629\n",
      "Epoch 7/50\n",
      "721/721 [==============================] - 0s 36us/step - loss: 283.9238\n",
      "Epoch 8/50\n",
      "721/721 [==============================] - 0s 34us/step - loss: 238.3285\n",
      "Epoch 9/50\n",
      "721/721 [==============================] - 0s 40us/step - loss: 205.1150\n",
      "Epoch 10/50\n",
      "721/721 [==============================] - 0s 26us/step - loss: 183.0427\n",
      "Epoch 11/50\n",
      "721/721 [==============================] - 0s 27us/step - loss: 170.8727\n",
      "Epoch 12/50\n",
      "721/721 [==============================] - 0s 27us/step - loss: 156.0155\n",
      "Epoch 13/50\n",
      "721/721 [==============================] - 0s 25us/step - loss: 145.7007\n",
      "Epoch 14/50\n",
      "721/721 [==============================] - 0s 46us/step - loss: 140.7363\n",
      "Epoch 15/50\n",
      "721/721 [==============================] - 0s 40us/step - loss: 134.3706\n",
      "Epoch 16/50\n",
      "721/721 [==============================] - 0s 33us/step - loss: 130.7356\n",
      "Epoch 17/50\n",
      "721/721 [==============================] - 0s 35us/step - loss: 127.8589\n",
      "Epoch 18/50\n",
      "721/721 [==============================] - 0s 68us/step - loss: 123.8938\n",
      "Epoch 19/50\n",
      "721/721 [==============================] - 0s 87us/step - loss: 122.1408\n",
      "Epoch 20/50\n",
      "721/721 [==============================] - 0s 64us/step - loss: 120.5434\n",
      "Epoch 21/50\n",
      "721/721 [==============================] - 0s 92us/step - loss: 120.2341\n",
      "Epoch 22/50\n",
      "721/721 [==============================] - 0s 104us/step - loss: 115.2476\n",
      "Epoch 23/50\n",
      "721/721 [==============================] - 0s 68us/step - loss: 115.5311\n",
      "Epoch 24/50\n",
      "721/721 [==============================] - 0s 68us/step - loss: 116.2125\n",
      "Epoch 25/50\n",
      "721/721 [==============================] - 0s 54us/step - loss: 113.5380\n",
      "Epoch 26/50\n",
      "721/721 [==============================] - 0s 46us/step - loss: 111.8013\n",
      "Epoch 27/50\n",
      "721/721 [==============================] - 0s 32us/step - loss: 110.7315\n",
      "Epoch 28/50\n",
      "721/721 [==============================] - 0s 36us/step - loss: 112.7531\n",
      "Epoch 29/50\n",
      "721/721 [==============================] - 0s 30us/step - loss: 112.7256\n",
      "Epoch 30/50\n",
      "721/721 [==============================] - 0s 38us/step - loss: 109.9373\n",
      "Epoch 31/50\n",
      "721/721 [==============================] - 0s 33us/step - loss: 110.2022\n",
      "Epoch 32/50\n",
      "721/721 [==============================] - 0s 34us/step - loss: 109.4284\n",
      "Epoch 33/50\n",
      "721/721 [==============================] - 0s 33us/step - loss: 109.7818\n",
      "Epoch 34/50\n",
      "721/721 [==============================] - 0s 29us/step - loss: 110.0307\n",
      "Epoch 35/50\n",
      "721/721 [==============================] - 0s 42us/step - loss: 109.2181\n",
      "Epoch 36/50\n",
      "721/721 [==============================] - 0s 50us/step - loss: 108.2674\n",
      "Epoch 37/50\n",
      "721/721 [==============================] - 0s 66us/step - loss: 110.0209\n",
      "Epoch 38/50\n",
      "721/721 [==============================] - 0s 61us/step - loss: 108.6929\n",
      "Epoch 39/50\n",
      "721/721 [==============================] - 0s 66us/step - loss: 109.7549\n",
      "Epoch 40/50\n",
      "721/721 [==============================] - 0s 69us/step - loss: 108.0331\n",
      "Epoch 41/50\n",
      "721/721 [==============================] - 0s 69us/step - loss: 109.8067\n",
      "Epoch 42/50\n",
      "721/721 [==============================] - 0s 83us/step - loss: 109.8597\n",
      "Epoch 43/50\n",
      "721/721 [==============================] - 0s 65us/step - loss: 110.6134\n",
      "Epoch 44/50\n",
      "721/721 [==============================] - 0s 70us/step - loss: 107.2377\n",
      "Epoch 45/50\n",
      "721/721 [==============================] - 0s 65us/step - loss: 108.3339\n",
      "Epoch 46/50\n",
      "721/721 [==============================] - 0s 68us/step - loss: 112.8615\n",
      "Epoch 47/50\n",
      "721/721 [==============================] - 0s 65us/step - loss: 110.3942\n",
      "Epoch 48/50\n",
      "721/721 [==============================] - 0s 70us/step - loss: 110.3842\n",
      "Epoch 49/50\n",
      "721/721 [==============================] - 0s 66us/step - loss: 107.3283\n",
      "Epoch 50/50\n",
      "721/721 [==============================] - 0s 48us/step - loss: 109.8958\n"
     ]
    },
    {
     "data": {
      "text/plain": [
       "<keras.callbacks.callbacks.History at 0x16a91e64b00>"
      ]
     },
     "execution_count": 19,
     "metadata": {},
     "output_type": "execute_result"
    }
   ],
   "source": [
    "model.fit(X_train, y_train, epochs=50, verbose=1)"
   ]
  },
  {
   "cell_type": "code",
   "execution_count": 20,
   "metadata": {},
   "outputs": [
    {
     "name": "stdout",
     "output_type": "stream",
     "text": [
      "309/309 [==============================] - 0s 226us/step\n"
     ]
    },
    {
     "data": {
      "text/plain": [
       "108.97121246732941"
      ]
     },
     "execution_count": 20,
     "metadata": {},
     "output_type": "execute_result"
    }
   ],
   "source": [
    "loss_val = model.evaluate(X_test, y_test)\n",
    "y_pred = model.predict(X_test)\n",
    "loss_val"
   ]
  },
  {
   "cell_type": "code",
   "execution_count": 21,
   "metadata": {},
   "outputs": [
    {
     "name": "stdout",
     "output_type": "stream",
     "text": [
      "108.97121125051099 0.0\n"
     ]
    }
   ],
   "source": [
    "from sklearn.metrics import mean_squared_error\n",
    "mean_square_error = mean_squared_error(y_test, y_pred)\n",
    "mean = np.mean(mean_square_error)\n",
    "standard_deviation = np.std(mean_square_error)\n",
    "print(mean, standard_deviation)"
   ]
  },
  {
   "cell_type": "markdown",
   "metadata": {},
   "source": [
    "50 epochs"
   ]
  },
  {
   "cell_type": "code",
   "execution_count": 22,
   "metadata": {},
   "outputs": [
    {
     "name": "stdout",
     "output_type": "stream",
     "text": [
      "MSE 1: 84.06214373937317\n",
      "MSE 2: 98.06009785179953\n",
      "MSE 3: 68.13919978465849\n",
      "MSE 4: 69.90814936122462\n",
      "MSE 5: 57.22861779469117\n",
      "MSE 6: 54.55701002102454\n",
      "MSE 7: 61.9788906257901\n",
      "MSE 8: 44.19989207493063\n",
      "MSE 9: 46.706369295089374\n",
      "MSE 10: 49.724228720063145\n",
      "MSE 11: 44.264403099381035\n",
      "MSE 12: 43.76557863105848\n",
      "MSE 13: 56.39317588435794\n",
      "MSE 14: 50.63432679901617\n",
      "MSE 15: 48.27629497984852\n",
      "MSE 16: 45.64917051444933\n",
      "MSE 17: 53.41395615759791\n",
      "MSE 18: 47.29521624247233\n",
      "MSE 19: 39.358566642193345\n",
      "MSE 20: 40.89989857843393\n",
      "MSE 21: 39.17967703118679\n",
      "MSE 22: 40.64628429474568\n",
      "MSE 23: 39.863523489449015\n",
      "MSE 24: 40.82059381231907\n",
      "MSE 25: 43.468688569794196\n",
      "MSE 26: 43.22848039151781\n",
      "MSE 27: 41.893395383766936\n",
      "MSE 28: 34.052236044676945\n",
      "MSE 29: 43.40582202553363\n",
      "MSE 30: 41.74796803792318\n",
      "MSE 31: 44.65086782017186\n",
      "MSE 32: 33.425159824704664\n",
      "MSE 33: 36.19730168561719\n",
      "MSE 34: 38.76213936666841\n",
      "MSE 35: 38.49223912803872\n",
      "MSE 36: 43.666618112607296\n",
      "MSE 37: 41.65321024181773\n",
      "MSE 38: 40.9637626722021\n",
      "MSE 39: 35.12749141705461\n",
      "MSE 40: 32.98722053577213\n",
      "MSE 41: 41.3110351315594\n",
      "MSE 42: 35.872643813346194\n",
      "MSE 43: 36.55930616014598\n",
      "MSE 44: 44.596298847383665\n",
      "MSE 45: 41.471005807030934\n",
      "MSE 46: 40.61477288304795\n",
      "MSE 47: 41.85141094911446\n",
      "MSE 48: 39.011963878248885\n",
      "MSE 49: 42.46106244676707\n",
      "MSE 50: 40.15215181764275\n",
      "\n",
      "\n",
      "Below is the mean and standard deviation of 50 mean squared errors without normalized data. Total number of epochs for each training is: 50\n",
      "\n",
      "Mean: 46.05299030059216\n",
      "Standard Deviation: 12.149508331716175\n"
     ]
    }
   ],
   "source": [
    "total_mean_squared_errors = 50\n",
    "epochs = 50\n",
    "mean_squared_errors = []\n",
    "for i in range(0, total_mean_squared_errors):\n",
    "    X_train, X_test, y_train, y_test = train_test_split(predictors, target, test_size=0.3, random_state=i)\n",
    "    model.fit(X_train, y_train, epochs=epochs, verbose=0)\n",
    "    MSE = model.evaluate(X_test, y_test, verbose=0)\n",
    "    print(\"MSE \"+str(i+1)+\": \"+str(MSE))\n",
    "    y_pred = model.predict(X_test)\n",
    "    mean_square_error = mean_squared_error(y_test, y_pred)\n",
    "    mean_squared_errors.append(mean_square_error)\n",
    "\n",
    "mean_squared_errors = np.array(mean_squared_errors)\n",
    "mean = np.mean(mean_squared_errors)\n",
    "standard_deviation = np.std(mean_squared_errors)\n",
    "\n",
    "print('\\n')\n",
    "print(\"Below is the mean and standard deviation of \" +str(total_mean_squared_errors) + \" mean squared errors without normalized data. Total number of epochs for each training is: \" +str(epochs) + \"\\n\")\n",
    "print(\"Mean: \"+str(mean))\n",
    "print(\"Standard Deviation: \"+str(standard_deviation))"
   ]
  },
  {
   "cell_type": "markdown",
   "metadata": {},
   "source": [
    "<h3>Building the model after normalising the dataset</h3>"
   ]
  },
  {
   "cell_type": "code",
   "execution_count": 23,
   "metadata": {},
   "outputs": [
    {
     "data": {
      "text/html": [
       "<div>\n",
       "<style scoped>\n",
       "    .dataframe tbody tr th:only-of-type {\n",
       "        vertical-align: middle;\n",
       "    }\n",
       "\n",
       "    .dataframe tbody tr th {\n",
       "        vertical-align: top;\n",
       "    }\n",
       "\n",
       "    .dataframe thead th {\n",
       "        text-align: right;\n",
       "    }\n",
       "</style>\n",
       "<table border=\"1\" class=\"dataframe\">\n",
       "  <thead>\n",
       "    <tr style=\"text-align: right;\">\n",
       "      <th></th>\n",
       "      <th>Cement</th>\n",
       "      <th>Blast Furnace Slag</th>\n",
       "      <th>Fly Ash</th>\n",
       "      <th>Water</th>\n",
       "      <th>Superplasticizer</th>\n",
       "      <th>Coarse Aggregate</th>\n",
       "      <th>Fine Aggregate</th>\n",
       "      <th>Age</th>\n",
       "    </tr>\n",
       "  </thead>\n",
       "  <tbody>\n",
       "    <tr>\n",
       "      <th>0</th>\n",
       "      <td>2.476712</td>\n",
       "      <td>-0.856472</td>\n",
       "      <td>-0.846733</td>\n",
       "      <td>-0.916319</td>\n",
       "      <td>-0.620147</td>\n",
       "      <td>0.862735</td>\n",
       "      <td>-1.217079</td>\n",
       "      <td>-0.279597</td>\n",
       "    </tr>\n",
       "    <tr>\n",
       "      <th>1</th>\n",
       "      <td>2.476712</td>\n",
       "      <td>-0.856472</td>\n",
       "      <td>-0.846733</td>\n",
       "      <td>-0.916319</td>\n",
       "      <td>-0.620147</td>\n",
       "      <td>1.055651</td>\n",
       "      <td>-1.217079</td>\n",
       "      <td>-0.279597</td>\n",
       "    </tr>\n",
       "    <tr>\n",
       "      <th>2</th>\n",
       "      <td>0.491187</td>\n",
       "      <td>0.795140</td>\n",
       "      <td>-0.846733</td>\n",
       "      <td>2.174405</td>\n",
       "      <td>-1.038638</td>\n",
       "      <td>-0.526262</td>\n",
       "      <td>-2.239829</td>\n",
       "      <td>3.551340</td>\n",
       "    </tr>\n",
       "    <tr>\n",
       "      <th>3</th>\n",
       "      <td>0.491187</td>\n",
       "      <td>0.795140</td>\n",
       "      <td>-0.846733</td>\n",
       "      <td>2.174405</td>\n",
       "      <td>-1.038638</td>\n",
       "      <td>-0.526262</td>\n",
       "      <td>-2.239829</td>\n",
       "      <td>5.055221</td>\n",
       "    </tr>\n",
       "    <tr>\n",
       "      <th>4</th>\n",
       "      <td>-0.790075</td>\n",
       "      <td>0.678079</td>\n",
       "      <td>-0.846733</td>\n",
       "      <td>0.488555</td>\n",
       "      <td>-1.038638</td>\n",
       "      <td>0.070492</td>\n",
       "      <td>0.647569</td>\n",
       "      <td>4.976069</td>\n",
       "    </tr>\n",
       "  </tbody>\n",
       "</table>\n",
       "</div>"
      ],
      "text/plain": [
       "     Cement  Blast Furnace Slag   Fly Ash     Water  Superplasticizer  \\\n",
       "0  2.476712           -0.856472 -0.846733 -0.916319         -0.620147   \n",
       "1  2.476712           -0.856472 -0.846733 -0.916319         -0.620147   \n",
       "2  0.491187            0.795140 -0.846733  2.174405         -1.038638   \n",
       "3  0.491187            0.795140 -0.846733  2.174405         -1.038638   \n",
       "4 -0.790075            0.678079 -0.846733  0.488555         -1.038638   \n",
       "\n",
       "   Coarse Aggregate  Fine Aggregate       Age  \n",
       "0          0.862735       -1.217079 -0.279597  \n",
       "1          1.055651       -1.217079 -0.279597  \n",
       "2         -0.526262       -2.239829  3.551340  \n",
       "3         -0.526262       -2.239829  5.055221  \n",
       "4          0.070492        0.647569  4.976069  "
      ]
     },
     "execution_count": 23,
     "metadata": {},
     "output_type": "execute_result"
    }
   ],
   "source": [
    "predictors_norm = (predictors - predictors.mean()) / predictors.std()\n",
    "predictors_norm.head()"
   ]
  },
  {
   "cell_type": "code",
   "execution_count": 24,
   "metadata": {},
   "outputs": [],
   "source": [
    "def regression_model():\n",
    "    # create model\n",
    "    model = Sequential()\n",
    "    model.add(Dense(10, activation='relu', input_shape=(n_cols,)))\n",
    "    model.add(Dense(1))\n",
    "    \n",
    "    # compile model\n",
    "    model.compile(optimizer='adam', loss='mean_squared_error')\n",
    "    return model"
   ]
  },
  {
   "cell_type": "code",
   "execution_count": 25,
   "metadata": {},
   "outputs": [],
   "source": [
    "X_train, X_test, y_train, y_test = train_test_split(predictors_norm, target, test_size=0.3, random_state=42)"
   ]
  },
  {
   "cell_type": "code",
   "execution_count": 26,
   "metadata": {},
   "outputs": [
    {
     "name": "stdout",
     "output_type": "stream",
     "text": [
      "Epoch 1/50\n",
      " - 0s - loss: 1592.2342\n",
      "Epoch 2/50\n",
      " - 0s - loss: 1574.1924\n",
      "Epoch 3/50\n",
      " - 0s - loss: 1556.5152\n",
      "Epoch 4/50\n",
      " - 0s - loss: 1538.6441\n",
      "Epoch 5/50\n",
      " - 0s - loss: 1520.8609\n",
      "Epoch 6/50\n",
      " - 0s - loss: 1502.8470\n",
      "Epoch 7/50\n",
      " - 0s - loss: 1483.9883\n",
      "Epoch 8/50\n",
      " - 0s - loss: 1465.0612\n",
      "Epoch 9/50\n",
      " - 0s - loss: 1445.2695\n",
      "Epoch 10/50\n",
      " - 0s - loss: 1424.4107\n",
      "Epoch 11/50\n",
      " - 0s - loss: 1403.4599\n",
      "Epoch 12/50\n",
      " - 0s - loss: 1381.0430\n",
      "Epoch 13/50\n",
      " - 0s - loss: 1358.2439\n",
      "Epoch 14/50\n",
      " - 0s - loss: 1334.4836\n",
      "Epoch 15/50\n",
      " - 0s - loss: 1309.9450\n",
      "Epoch 16/50\n",
      " - 0s - loss: 1284.9493\n",
      "Epoch 17/50\n",
      " - 0s - loss: 1258.7477\n",
      "Epoch 18/50\n",
      " - 0s - loss: 1232.1142\n",
      "Epoch 19/50\n",
      " - 0s - loss: 1203.8268\n",
      "Epoch 20/50\n",
      " - 0s - loss: 1175.9503\n",
      "Epoch 21/50\n",
      " - 0s - loss: 1146.4729\n",
      "Epoch 22/50\n",
      " - 0s - loss: 1116.5707\n",
      "Epoch 23/50\n",
      " - 0s - loss: 1086.1952\n",
      "Epoch 24/50\n",
      " - 0s - loss: 1055.2355\n",
      "Epoch 25/50\n",
      " - 0s - loss: 1023.2229\n",
      "Epoch 26/50\n",
      " - 0s - loss: 991.8754\n",
      "Epoch 27/50\n",
      " - 0s - loss: 959.7647\n",
      "Epoch 28/50\n",
      " - 0s - loss: 928.2809\n",
      "Epoch 29/50\n",
      " - 0s - loss: 896.9151\n",
      "Epoch 30/50\n",
      " - 0s - loss: 865.7948\n",
      "Epoch 31/50\n",
      " - 0s - loss: 834.3811\n",
      "Epoch 32/50\n",
      " - 0s - loss: 803.9273\n",
      "Epoch 33/50\n",
      " - 0s - loss: 774.2736\n",
      "Epoch 34/50\n",
      " - 0s - loss: 745.0845\n",
      "Epoch 35/50\n",
      " - 0s - loss: 716.5981\n",
      "Epoch 36/50\n",
      " - 0s - loss: 688.8106\n",
      "Epoch 37/50\n",
      " - 0s - loss: 661.6405\n",
      "Epoch 38/50\n",
      " - 0s - loss: 636.0691\n",
      "Epoch 39/50\n",
      " - 0s - loss: 610.3889\n",
      "Epoch 40/50\n",
      " - 0s - loss: 586.2320\n",
      "Epoch 41/50\n",
      " - 0s - loss: 562.8061\n",
      "Epoch 42/50\n",
      " - 0s - loss: 540.5110\n",
      "Epoch 43/50\n",
      " - 0s - loss: 519.0545\n",
      "Epoch 44/50\n",
      " - 0s - loss: 498.3540\n",
      "Epoch 45/50\n",
      " - 0s - loss: 478.6481\n",
      "Epoch 46/50\n",
      " - 0s - loss: 459.8157\n",
      "Epoch 47/50\n",
      " - 0s - loss: 441.8926\n",
      "Epoch 48/50\n",
      " - 0s - loss: 424.9234\n",
      "Epoch 49/50\n",
      " - 0s - loss: 408.4091\n",
      "Epoch 50/50\n",
      " - 0s - loss: 393.1806\n"
     ]
    },
    {
     "data": {
      "text/plain": [
       "<keras.callbacks.callbacks.History at 0x195905ed780>"
      ]
     },
     "execution_count": 26,
     "metadata": {},
     "output_type": "execute_result"
    }
   ],
   "source": [
    "model = regression_model()\n",
    "epochs = 50\n",
    "model.fit(X_train, y_train, epochs=epochs, verbose=2)"
   ]
  },
  {
   "cell_type": "code",
   "execution_count": 27,
   "metadata": {},
   "outputs": [
    {
     "name": "stdout",
     "output_type": "stream",
     "text": [
      "309/309 [==============================] - 0s 200us/step\n"
     ]
    },
    {
     "data": {
      "text/plain": [
       "381.9158187915592"
      ]
     },
     "execution_count": 27,
     "metadata": {},
     "output_type": "execute_result"
    }
   ],
   "source": [
    "loss_val = model.evaluate(X_test, y_test)\n",
    "y_pred = model.predict(X_test)\n",
    "loss_val"
   ]
  },
  {
   "cell_type": "code",
   "execution_count": 28,
   "metadata": {},
   "outputs": [
    {
     "name": "stdout",
     "output_type": "stream",
     "text": [
      "381.91581193825994 0.0\n"
     ]
    }
   ],
   "source": [
    "mean_square_error = mean_squared_error(y_test, y_pred)\n",
    "mean = np.mean(mean_square_error)\n",
    "standard_deviation = np.std(mean_square_error)\n",
    "print(mean, standard_deviation)"
   ]
  },
  {
   "cell_type": "code",
   "execution_count": 29,
   "metadata": {},
   "outputs": [
    {
     "name": "stdout",
     "output_type": "stream",
     "text": [
      "MSE 1: 150.20886445276946\n",
      "MSE 2: 130.05798231205122\n",
      "MSE 3: 93.37046515208618\n",
      "MSE 4: 83.93988214881675\n",
      "MSE 5: 70.67965135296572\n",
      "MSE 6: 62.289232642905226\n",
      "MSE 7: 56.65916247815376\n",
      "MSE 8: 43.29570417188132\n",
      "MSE 9: 43.130203296451505\n",
      "MSE 10: 43.03177182342628\n",
      "MSE 11: 42.800806829458686\n",
      "MSE 12: 42.5512792099641\n",
      "MSE 13: 48.86624605370185\n",
      "MSE 14: 46.588894902695344\n",
      "MSE 15: 42.85708607053294\n",
      "MSE 16: 37.25464986906083\n",
      "MSE 17: 41.08017386896325\n",
      "MSE 18: 39.218393245561224\n",
      "MSE 19: 41.470113612301525\n",
      "MSE 20: 39.94169459913927\n",
      "MSE 21: 37.823539906720896\n",
      "MSE 22: 39.77224777740182\n",
      "MSE 23: 37.90844230281497\n",
      "MSE 24: 38.11176502511725\n",
      "MSE 25: 39.6996174537634\n",
      "MSE 26: 40.32916891844913\n",
      "MSE 27: 36.88134617481417\n",
      "MSE 28: 34.5912234482256\n",
      "MSE 29: 43.992549995002626\n",
      "MSE 30: 40.523822821459724\n",
      "MSE 31: 37.673418125288386\n",
      "MSE 32: 36.56493698354678\n",
      "MSE 33: 38.041384354378415\n",
      "MSE 34: 40.72842025756836\n",
      "MSE 35: 39.085738197499495\n",
      "MSE 36: 44.74958642015179\n",
      "MSE 37: 38.60649424000465\n",
      "MSE 38: 42.16254153452259\n",
      "MSE 39: 38.54774818296957\n",
      "MSE 40: 34.240193771312924\n",
      "MSE 41: 41.75475496458776\n",
      "MSE 42: 36.31128387080813\n",
      "MSE 43: 37.06849374740255\n",
      "MSE 44: 41.1982843466947\n",
      "MSE 45: 44.11536659314795\n",
      "MSE 46: 41.70629930959164\n",
      "MSE 47: 38.18153309744925\n",
      "MSE 48: 38.37419186440872\n",
      "MSE 49: 39.98353180376071\n",
      "MSE 50: 42.46732436491833\n",
      "\n",
      "\n",
      "Below is the mean and standard deviation of 50 mean squared errors with normalized data. Total number of epochs for each training is: 50\n",
      "\n",
      "Mean: 47.60974983926959\n",
      "Standard Deviation: 22.025072470562716\n"
     ]
    }
   ],
   "source": [
    "total_mean_squared_errors = 50\n",
    "epochs = 50\n",
    "mean_squared_errors = []\n",
    "for i in range(0, total_mean_squared_errors):\n",
    "    X_train, X_test, y_train, y_test = train_test_split(predictors_norm, target, test_size=0.3, random_state=i)\n",
    "    model.fit(X_train, y_train, epochs=epochs, verbose=0)\n",
    "    MSE = model.evaluate(X_test, y_test, verbose=0)\n",
    "    print(\"MSE \"+str(i+1)+\": \"+str(MSE))\n",
    "    y_pred = model.predict(X_test)\n",
    "    mean_square_error = mean_squared_error(y_test, y_pred)\n",
    "    mean_squared_errors.append(mean_square_error)\n",
    "\n",
    "mean_squared_errors = np.array(mean_squared_errors)\n",
    "mean = np.mean(mean_squared_errors)\n",
    "standard_deviation = np.std(mean_squared_errors)\n",
    "\n",
    "print('\\n')\n",
    "print(\"Below is the mean and standard deviation of \" +str(total_mean_squared_errors) + \" mean squared errors with normalized data. Total number of epochs for each training is: \" +str(epochs) + \"\\n\")\n",
    "print(\"Mean: \"+str(mean))\n",
    "print(\"Standard Deviation: \"+str(standard_deviation))"
   ]
  },
  {
   "cell_type": "markdown",
   "metadata": {},
   "source": [
    "Using 100 epochs"
   ]
  },
  {
   "cell_type": "code",
   "execution_count": 30,
   "metadata": {},
   "outputs": [
    {
     "name": "stdout",
     "output_type": "stream",
     "text": [
      "MSE 1: 39.96546587897736\n",
      "MSE 2: 41.52986900551805\n",
      "MSE 3: 34.33814738869281\n",
      "MSE 4: 34.88994176796725\n",
      "MSE 5: 36.24212537845747\n",
      "MSE 6: 38.747260417753054\n",
      "MSE 7: 43.86649041036958\n",
      "MSE 8: 31.513764563501844\n",
      "MSE 9: 36.15790318362535\n",
      "MSE 10: 32.7829519722454\n",
      "MSE 11: 36.82145522404643\n",
      "MSE 12: 34.88581565437193\n",
      "MSE 13: 39.28004229030177\n",
      "MSE 14: 38.89865208598017\n",
      "MSE 15: 36.56157428778491\n",
      "MSE 16: 29.584182078784337\n",
      "MSE 17: 35.76810438038848\n",
      "MSE 18: 34.0985621541835\n",
      "MSE 19: 36.18850677144566\n",
      "MSE 20: 35.70868031029563\n",
      "MSE 21: 33.705241366883314\n",
      "MSE 22: 33.01416810662229\n",
      "MSE 23: 30.488148007192272\n",
      "MSE 24: 34.73659803026317\n",
      "MSE 25: 35.06283007007587\n",
      "MSE 26: 38.00431266957502\n",
      "MSE 27: 31.238651485504842\n",
      "MSE 28: 32.17293052920246\n",
      "MSE 29: 38.82749936495784\n",
      "MSE 30: 35.569158510868604\n",
      "MSE 31: 32.199532135404816\n",
      "MSE 32: 32.46910277925263\n",
      "MSE 33: 32.59941470198647\n",
      "MSE 34: 35.006557476944906\n",
      "MSE 35: 36.14667918381182\n",
      "MSE 36: 40.31846006325534\n",
      "MSE 37: 31.15196536968441\n",
      "MSE 38: 35.79693183775473\n",
      "MSE 39: 33.14120094521532\n",
      "MSE 40: 30.81991267281443\n",
      "MSE 41: 37.339425849297285\n",
      "MSE 42: 31.986513736564365\n",
      "MSE 43: 33.56179644143312\n",
      "MSE 44: 37.52913222575265\n",
      "MSE 45: 38.036851765654234\n",
      "MSE 46: 37.236677867309176\n",
      "MSE 47: 32.19349280298721\n",
      "MSE 48: 36.16639613179327\n",
      "MSE 49: 34.81614095570586\n",
      "MSE 50: 38.35481470842578\n",
      "\n",
      "\n",
      "Below is the mean and standard deviation of 50 mean squared errors with normalized data. Total number of epochs for each training is: 100\n",
      "\n",
      "Mean: 35.35040014327032\n",
      "Standard Deviation: 3.0400442408022257\n"
     ]
    }
   ],
   "source": [
    "total_mean_squared_errors = 50\n",
    "epochs = 100\n",
    "mean_squared_errors = []\n",
    "for i in range(0, total_mean_squared_errors):\n",
    "    X_train, X_test, y_train, y_test = train_test_split(predictors_norm, target, test_size=0.3, random_state=i)\n",
    "    model.fit(X_train, y_train, epochs=epochs, verbose=0)\n",
    "    MSE = model.evaluate(X_test, y_test, verbose=0)\n",
    "    print(\"MSE \"+str(i+1)+\": \"+str(MSE))\n",
    "    y_pred = model.predict(X_test)\n",
    "    mean_square_error = mean_squared_error(y_test, y_pred)\n",
    "    mean_squared_errors.append(mean_square_error)\n",
    "\n",
    "mean_squared_errors = np.array(mean_squared_errors)\n",
    "mean = np.mean(mean_squared_errors)\n",
    "standard_deviation = np.std(mean_squared_errors)\n",
    "\n",
    "print('\\n')\n",
    "print(\"Below is the mean and standard deviation of \" +str(total_mean_squared_errors) + \" mean squared errors with normalized data. Total number of epochs for each training is: \" +str(epochs) + \"\\n\")\n",
    "print(\"Mean: \"+str(mean))\n",
    "print(\"Standard Deviation: \"+str(standard_deviation))"
   ]
  },
  {
   "cell_type": "markdown",
   "metadata": {},
   "source": [
    "<h3>Building the model with 3 hidden layers and ReLu activation function</h3>"
   ]
  },
  {
   "cell_type": "code",
   "execution_count": 31,
   "metadata": {},
   "outputs": [],
   "source": [
    "def regression_model():\n",
    "    # create model\n",
    "    model = Sequential()\n",
    "    model.add(Dense(10, activation='relu', input_shape=(n_cols,)))\n",
    "    model.add(Dense(10, activation='relu'))\n",
    "    model.add(Dense(10, activation='relu'))\n",
    "    model.add(Dense(1))\n",
    "    \n",
    "    # compile model\n",
    "    model.compile(optimizer='adam', loss='mean_squared_error')\n",
    "    return model"
   ]
  },
  {
   "cell_type": "code",
   "execution_count": 32,
   "metadata": {},
   "outputs": [],
   "source": [
    "X_train, X_test, y_train, y_test = train_test_split(predictors_norm, target, test_size=0.3, random_state=42)"
   ]
  },
  {
   "cell_type": "code",
   "execution_count": 33,
   "metadata": {},
   "outputs": [
    {
     "name": "stdout",
     "output_type": "stream",
     "text": [
      "Epoch 1/50\n",
      " - 0s - loss: 1566.3509\n",
      "Epoch 2/50\n",
      " - 0s - loss: 1544.1779\n",
      "Epoch 3/50\n",
      " - 0s - loss: 1507.7575\n",
      "Epoch 4/50\n",
      " - 0s - loss: 1444.5917\n",
      "Epoch 5/50\n",
      " - 0s - loss: 1338.7043\n",
      "Epoch 6/50\n",
      " - 0s - loss: 1173.7223\n",
      "Epoch 7/50\n",
      " - 0s - loss: 951.0528\n",
      "Epoch 8/50\n",
      " - 0s - loss: 691.8840\n",
      "Epoch 9/50\n",
      " - 0s - loss: 470.1082\n",
      "Epoch 10/50\n",
      " - 0s - loss: 353.1914\n",
      "Epoch 11/50\n",
      " - 0s - loss: 290.3154\n",
      "Epoch 12/50\n",
      " - 0s - loss: 260.7960\n",
      "Epoch 13/50\n",
      " - 0s - loss: 240.9687\n",
      "Epoch 14/50\n",
      " - 0s - loss: 227.0787\n",
      "Epoch 15/50\n",
      " - 0s - loss: 216.7540\n",
      "Epoch 16/50\n",
      " - 0s - loss: 207.7775\n",
      "Epoch 17/50\n",
      " - 0s - loss: 198.4321\n",
      "Epoch 18/50\n",
      " - 0s - loss: 190.8372\n",
      "Epoch 19/50\n",
      " - 0s - loss: 184.1534\n",
      "Epoch 20/50\n",
      " - 0s - loss: 178.4716\n",
      "Epoch 21/50\n",
      " - 0s - loss: 173.0895\n",
      "Epoch 22/50\n",
      " - 0s - loss: 168.1671\n",
      "Epoch 23/50\n",
      " - 0s - loss: 163.7028\n",
      "Epoch 24/50\n",
      " - 0s - loss: 159.7150\n",
      "Epoch 25/50\n",
      " - 0s - loss: 155.5209\n",
      "Epoch 26/50\n",
      " - 0s - loss: 152.1302\n",
      "Epoch 27/50\n",
      " - 0s - loss: 148.8529\n",
      "Epoch 28/50\n",
      " - 0s - loss: 145.6484\n",
      "Epoch 29/50\n",
      " - 0s - loss: 143.2192\n",
      "Epoch 30/50\n",
      " - 0s - loss: 140.2091\n",
      "Epoch 31/50\n",
      " - 0s - loss: 137.8026\n",
      "Epoch 32/50\n",
      " - 0s - loss: 135.1546\n",
      "Epoch 33/50\n",
      " - 0s - loss: 132.6615\n",
      "Epoch 34/50\n",
      " - 0s - loss: 130.0434\n",
      "Epoch 35/50\n",
      " - 0s - loss: 127.8670\n",
      "Epoch 36/50\n",
      " - 0s - loss: 125.7703\n",
      "Epoch 37/50\n",
      " - 0s - loss: 123.3052\n",
      "Epoch 38/50\n",
      " - 0s - loss: 121.8044\n",
      "Epoch 39/50\n",
      " - 0s - loss: 119.4841\n",
      "Epoch 40/50\n",
      " - 0s - loss: 117.4576\n",
      "Epoch 41/50\n",
      " - 0s - loss: 115.6423\n",
      "Epoch 42/50\n",
      " - 0s - loss: 114.4390\n",
      "Epoch 43/50\n",
      " - 0s - loss: 112.1428\n",
      "Epoch 44/50\n",
      " - 0s - loss: 110.6762\n",
      "Epoch 45/50\n",
      " - 0s - loss: 108.9423\n",
      "Epoch 46/50\n",
      " - 0s - loss: 107.4108\n",
      "Epoch 47/50\n",
      " - 0s - loss: 105.9018\n",
      "Epoch 48/50\n",
      " - 0s - loss: 104.4632\n",
      "Epoch 49/50\n",
      " - 0s - loss: 102.2530\n",
      "Epoch 50/50\n",
      " - 0s - loss: 100.7535\n"
     ]
    },
    {
     "data": {
      "text/plain": [
       "<keras.callbacks.callbacks.History at 0x19591b24b00>"
      ]
     },
     "execution_count": 33,
     "metadata": {},
     "output_type": "execute_result"
    }
   ],
   "source": [
    "# build the model\n",
    "model = regression_model()\n",
    "epochs = 50\n",
    "model.fit(X_train, y_train, epochs=epochs, verbose=2)"
   ]
  },
  {
   "cell_type": "code",
   "execution_count": 34,
   "metadata": {},
   "outputs": [
    {
     "name": "stdout",
     "output_type": "stream",
     "text": [
      "309/309 [==============================] - 0s 292us/step\n"
     ]
    },
    {
     "data": {
      "text/plain": [
       "109.49592906371676"
      ]
     },
     "execution_count": 34,
     "metadata": {},
     "output_type": "execute_result"
    }
   ],
   "source": [
    "loss_val = model.evaluate(X_test, y_test)\n",
    "y_pred = model.predict(X_test)\n",
    "loss_val"
   ]
  },
  {
   "cell_type": "code",
   "execution_count": 35,
   "metadata": {},
   "outputs": [
    {
     "name": "stdout",
     "output_type": "stream",
     "text": [
      "109.49593087075665 0.0\n"
     ]
    }
   ],
   "source": [
    "mean_square_error = mean_squared_error(y_test, y_pred)\n",
    "mean = np.mean(mean_square_error)\n",
    "standard_deviation = np.std(mean_square_error)\n",
    "print(mean, standard_deviation)"
   ]
  },
  {
   "cell_type": "code",
   "execution_count": 36,
   "metadata": {},
   "outputs": [
    {
     "name": "stdout",
     "output_type": "stream",
     "text": [
      "MSE 1: 57.07249956840836\n",
      "MSE 2: 52.385020703559555\n",
      "MSE 3: 38.87071125561366\n",
      "MSE 4: 37.55323972979796\n",
      "MSE 5: 34.23459731413708\n",
      "MSE 6: 36.93138022561675\n",
      "MSE 7: 37.04488745630752\n",
      "MSE 8: 30.70816844952531\n",
      "MSE 9: 31.60711563752307\n",
      "MSE 10: 29.143707614886335\n",
      "MSE 11: 27.3502913231217\n",
      "MSE 12: 25.466091686853698\n",
      "MSE 13: 28.721957266909406\n",
      "MSE 14: 31.26394394069042\n",
      "MSE 15: 23.77796821841144\n",
      "MSE 16: 20.76342667267932\n",
      "MSE 17: 25.616844158728146\n",
      "MSE 18: 24.953573665186813\n",
      "MSE 19: 21.55729093829405\n",
      "MSE 20: 27.186430397157146\n",
      "MSE 21: 22.08886244690534\n",
      "MSE 22: 22.809471309377923\n",
      "MSE 23: 20.514018987760576\n",
      "MSE 24: 22.28828274007754\n",
      "MSE 25: 25.83100831855848\n",
      "MSE 26: 23.00790057753282\n",
      "MSE 27: 21.996240047960992\n",
      "MSE 28: 22.38540871629437\n",
      "MSE 29: 24.858592752499874\n",
      "MSE 30: 21.687312487259653\n",
      "MSE 31: 19.702959937185145\n",
      "MSE 32: 20.592105859305867\n",
      "MSE 33: 17.913489477534124\n",
      "MSE 34: 21.930877321360565\n",
      "MSE 35: 24.891305201261947\n",
      "MSE 36: 25.443571217237555\n",
      "MSE 37: 16.780868639837962\n",
      "MSE 38: 22.12740138279196\n",
      "MSE 39: 21.201785979533273\n",
      "MSE 40: 19.374807678765848\n",
      "MSE 41: 21.037401619080974\n",
      "MSE 42: 19.031824463779486\n",
      "MSE 43: 20.422713384659158\n",
      "MSE 44: 22.764780476641114\n",
      "MSE 45: 23.022720781344812\n",
      "MSE 46: 20.8015918176151\n",
      "MSE 47: 19.293865327310407\n",
      "MSE 48: 19.611242954785\n",
      "MSE 49: 19.44351498131613\n",
      "MSE 50: 19.421318097407763\n",
      "\n",
      "\n",
      "Below is the mean and standard deviation of 50 mean squared errors with normalized data. Total number of epochs for each training is: 50\n",
      "\n",
      "Mean: 25.68972753437887\n",
      "Standard Deviation: 7.987567871805464\n"
     ]
    }
   ],
   "source": [
    "total_mean_squared_errors = 50\n",
    "epochs = 50\n",
    "mean_squared_errors = []\n",
    "for i in range(0, total_mean_squared_errors):\n",
    "    X_train, X_test, y_train, y_test = train_test_split(predictors_norm, target, test_size=0.3, random_state=i)\n",
    "    model.fit(X_train, y_train, epochs=epochs, verbose=0)\n",
    "    MSE = model.evaluate(X_test, y_test, verbose=0)\n",
    "    print(\"MSE \"+str(i+1)+\": \"+str(MSE))\n",
    "    y_pred = model.predict(X_test)\n",
    "    mean_square_error = mean_squared_error(y_test, y_pred)\n",
    "    mean_squared_errors.append(mean_square_error)\n",
    "\n",
    "mean_squared_errors = np.array(mean_squared_errors)\n",
    "mean = np.mean(mean_squared_errors)\n",
    "standard_deviation = np.std(mean_squared_errors)\n",
    "\n",
    "print('\\n')\n",
    "print(\"Below is the mean and standard deviation of \" +str(total_mean_squared_errors) + \" mean squared errors with normalized data. Total number of epochs for each training is: \" +str(epochs) + \"\\n\")\n",
    "print(\"Mean: \"+str(mean))\n",
    "print(\"Standard Deviation: \"+str(standard_deviation))"
   ]
  },
  {
   "cell_type": "code",
   "execution_count": null,
   "metadata": {},
   "outputs": [],
   "source": []
  }
 ],
 "metadata": {
  "kernelspec": {
   "display_name": "Python 3",
   "language": "python",
   "name": "python3"
  },
  "language_info": {
   "codemirror_mode": {
    "name": "ipython",
    "version": 3
   },
   "file_extension": ".py",
   "mimetype": "text/x-python",
   "name": "python",
   "nbconvert_exporter": "python",
   "pygments_lexer": "ipython3",
   "version": "3.7.3"
  }
 },
 "nbformat": 4,
 "nbformat_minor": 4
}
